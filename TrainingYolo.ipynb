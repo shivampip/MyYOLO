{
  "nbformat": 4,
  "nbformat_minor": 0,
  "metadata": {
    "colab": {
      "name": "TrainingYolo",
      "version": "0.3.2",
      "provenance": [],
      "collapsed_sections": [
        "d5L_irMSFu4Y",
        "C8ZxyP5fivoP",
        "9ulJmgKQT0qs",
        "3rpOoBH2jlrW",
        "QfRSY_c5j8zp",
        "mjxIuT05Lz4L",
        "VJis7m8gaYrh",
        "bo61EbRNkidt",
        "t3oU5gwIaC2i",
        "e1KoqIbGnYcM",
        "eFs_Ww2_nebZ",
        "lhjYW6AuarRK",
        "XhmTkweubE8A",
        "PhDO58i5bHVO",
        "iWf9gOqXbQjx"
      ],
      "include_colab_link": true
    },
    "kernelspec": {
      "name": "python3",
      "display_name": "Python 3"
    },
    "accelerator": "GPU"
  },
  "cells": [
    {
      "cell_type": "markdown",
      "metadata": {
        "id": "view-in-github",
        "colab_type": "text"
      },
      "source": [
        "<a href=\"https://colab.research.google.com/github/shivampip/MyYOLO/blob/master/TrainingYolo.ipynb\" target=\"_parent\"><img src=\"https://colab.research.google.com/assets/colab-badge.svg\" alt=\"Open In Colab\"/></a>"
      ]
    },
    {
      "cell_type": "markdown",
      "metadata": {
        "id": "N3sWT0aAFv-V",
        "colab_type": "text"
      },
      "source": [
        "# Training YOLO"
      ]
    },
    {
      "cell_type": "markdown",
      "metadata": {
        "id": "d5L_irMSFu4Y",
        "colab_type": "text"
      },
      "source": [
        "### Training Data Creation"
      ]
    },
    {
      "cell_type": "markdown",
      "metadata": {
        "id": "1CSPUwsvF61n",
        "colab_type": "text"
      },
      "source": [
        "#### Collecting Images\n",
        "\n",
        "* Decide the classes to be detected.\n",
        "* Download/ collect atleast 100 images of each class\n",
        "\n",
        "##### Automatic download images\n",
        "\n",
        "* Install google_image_download\n",
        "```\n",
        "pip install google_images_download\n",
        "```\n",
        "\n",
        "* Download the images\n",
        "```\n",
        "googleimagesdownload --keywords \"Polar bears, baloons, Beaches\" --format jpg --limit 100\n",
        "```\n",
        "\n",
        "* Put all downloaded images in single folder say `imgs`"
      ]
    },
    {
      "cell_type": "markdown",
      "metadata": {
        "id": "ady8ZByTIxZn",
        "colab_type": "text"
      },
      "source": [
        "#### Annotate the images\n",
        "\n",
        "* Clone this repo\n",
        "```\n",
        "git clone https://github.com/tzutalin/labelImg\n",
        "cd labelImg\n",
        "```\n",
        "\n",
        "* Run labelImg\n",
        "```\n",
        "python labelImg.py\n",
        "```\n",
        "\n",
        "* Select open dir as `imgs`\n",
        "* Select destination dir as `imgs`\n",
        "* Select format as YOLO\n",
        "* Start Annotating\n",
        "* Use shortcut `d` for next image and `w` to create box\n",
        "* **Keep Calm and Annotate**\n",
        "\n",
        "#### Packing the images\n",
        "\n",
        "* Now you will have a folder named `imgs`\n",
        "* In that folder you will have all the images and a `.txt` file corresponding to each image file\n",
        "* It will look something like this\n",
        "```\n",
        "imgs\n",
        "  |--photo1.jpg\n",
        "  |--photo1.txt\n",
        "  |--photo2.jpg\n",
        "  |--photo2.txt\n",
        "  ......\n",
        "  ......\n",
        "```\n",
        "\n",
        "* Now `zip` the `imgs` folder to `imgs.zip`\n",
        "\n",
        "**Training Data Creating Part Completed**"
      ]
    },
    {
      "cell_type": "code",
      "metadata": {
        "id": "RrWLsAFLF6MM",
        "colab_type": "code",
        "colab": {}
      },
      "source": [
        ""
      ],
      "execution_count": 0,
      "outputs": []
    },
    {
      "cell_type": "markdown",
      "metadata": {
        "id": "C8ZxyP5fivoP",
        "colab_type": "text"
      },
      "source": [
        "### Clone repo"
      ]
    },
    {
      "cell_type": "code",
      "metadata": {
        "id": "eEIgRADeTefh",
        "colab_type": "code",
        "colab": {}
      },
      "source": [
        "! git clone https://github.com/AlexeyAB/darknet.git"
      ],
      "execution_count": 0,
      "outputs": []
    },
    {
      "cell_type": "code",
      "metadata": {
        "id": "2rl6KamzThRl",
        "colab_type": "code",
        "colab": {}
      },
      "source": [
        "cd darknet"
      ],
      "execution_count": 0,
      "outputs": []
    },
    {
      "cell_type": "markdown",
      "metadata": {
        "id": "9ulJmgKQT0qs",
        "colab_type": "text"
      },
      "source": [
        "### Enable GPU and OpenCV and Install"
      ]
    },
    {
      "cell_type": "code",
      "metadata": {
        "id": "B4WgLCm2T2GM",
        "colab_type": "code",
        "colab": {}
      },
      "source": [
        "text= \"\"\n",
        "with open(\"Makefile\", 'r') as mf:\n",
        "    text= mf.read().replace(\"GPU=0\", \"GPU=1\")\n",
        "    text= text.replace(\"OPENCV=0\", \"OPENCV=1\")\n",
        "with open(\"Makefile\", \"w\") as f:\n",
        "    f.write(text)"
      ],
      "execution_count": 0,
      "outputs": []
    },
    {
      "cell_type": "code",
      "metadata": {
        "id": "dEbDIU9IT2Tk",
        "colab_type": "code",
        "colab": {}
      },
      "source": [
        "! make"
      ],
      "execution_count": 0,
      "outputs": []
    },
    {
      "cell_type": "markdown",
      "metadata": {
        "id": "3rpOoBH2jlrW",
        "colab_type": "text"
      },
      "source": [
        "### Download Pre trained weights"
      ]
    },
    {
      "cell_type": "code",
      "metadata": {
        "id": "ew7GLUdxXN0G",
        "colab_type": "code",
        "colab": {}
      },
      "source": [
        "! wget https://pjreddie.com/media/files/yolov3.weights"
      ],
      "execution_count": 0,
      "outputs": []
    },
    {
      "cell_type": "code",
      "metadata": {
        "id": "sDyTGq-uPf-u",
        "colab_type": "code",
        "colab": {}
      },
      "source": [
        "! wget https://pjreddie.com/media/files/darknet19_448.conv.23"
      ],
      "execution_count": 0,
      "outputs": []
    },
    {
      "cell_type": "markdown",
      "metadata": {
        "id": "QfRSY_c5j8zp",
        "colab_type": "text"
      },
      "source": [
        "### Testing"
      ]
    },
    {
      "cell_type": "code",
      "metadata": {
        "id": "WMURtYjYXjoQ",
        "colab_type": "code",
        "colab": {}
      },
      "source": [
        "! ./darknet detect ./cfg/yolov3.cfg ./yolov3.weights ./data/person.jpg ."
      ],
      "execution_count": 0,
      "outputs": []
    },
    {
      "cell_type": "code",
      "metadata": {
        "id": "gTZxLbKcZx3A",
        "colab_type": "code",
        "colab": {}
      },
      "source": [
        "from matplotlib import pyplot as plt\n",
        "plt.imshow(plt.imread(\"predictions.jpg\"))"
      ],
      "execution_count": 0,
      "outputs": []
    },
    {
      "cell_type": "markdown",
      "metadata": {
        "id": "R0rRlBf5aR7j",
        "colab_type": "text"
      },
      "source": [
        "### Preparing Training Data"
      ]
    },
    {
      "cell_type": "markdown",
      "metadata": {
        "id": "mjxIuT05Lz4L",
        "colab_type": "text"
      },
      "source": [
        "#### Uploading Annotated Images\n",
        "\n",
        "* Upload `imgs.zip` file here by running the bilow cell"
      ]
    },
    {
      "cell_type": "code",
      "metadata": {
        "id": "d4pgbD6xL5hi",
        "colab_type": "code",
        "colab": {}
      },
      "source": [
        "from google.colab import files\n",
        "files.upload()"
      ],
      "execution_count": 0,
      "outputs": []
    },
    {
      "cell_type": "code",
      "metadata": {
        "id": "jkpJ2_n3L45G",
        "colab_type": "code",
        "colab": {}
      },
      "source": [
        "! unzip imgs.zip -d data/"
      ],
      "execution_count": 0,
      "outputs": []
    },
    {
      "cell_type": "code",
      "metadata": {
        "id": "AVtj9h19Qgxe",
        "colab_type": "code",
        "colab": {}
      },
      "source": [
        "! rm -rf imgs.zip"
      ],
      "execution_count": 0,
      "outputs": []
    },
    {
      "cell_type": "markdown",
      "metadata": {
        "id": "VJis7m8gaYrh",
        "colab_type": "text"
      },
      "source": [
        "#### Creating train.txt and test.txt"
      ]
    },
    {
      "cell_type": "code",
      "metadata": {
        "id": "OLJouoi7QleH",
        "colab_type": "code",
        "colab": {}
      },
      "source": [
        "import os\n",
        "\n",
        "all_files= os.listdir(\"data/imgs/\")\n",
        "total_num= len(all_files)\n",
        "\n",
        "all_files= [fname for fname in all_files if any(ext in fname for ext in ['.jpg', '.png', 'jpeg'])]\n",
        "all_files= ['data/imgs/'+name for name in all_files]\n",
        "\n",
        "test_size= 0.1\n",
        "\n",
        "test_num= round(total_num * test_size)\n",
        "\n",
        "test_files= all_files[:test_num]\n",
        "train_files= all_files[test_num:]\n",
        "\n",
        "trainf_data= \"\"\n",
        "testf_data= \"\"\n",
        "for fname in test_files:\n",
        "    testf_data+= fname+\"\\n\"\n",
        "    \n",
        "for fname in train_files:\n",
        "    trainf_data+= fname+\"\\n\"\n",
        "\n",
        "with open(\"train.txt\", \"w\") as trainf:\n",
        "    trainf.write(trainf_data)\n",
        "    \n",
        "with open(\"test.txt\", \"w\") as testf:\n",
        "    testf.write(testf_data)"
      ],
      "execution_count": 0,
      "outputs": []
    },
    {
      "cell_type": "markdown",
      "metadata": {
        "id": "bo61EbRNkidt",
        "colab_type": "text"
      },
      "source": [
        "#### User Input"
      ]
    },
    {
      "cell_type": "code",
      "metadata": {
        "id": "b6qI4NXPmMSi",
        "colab_type": "code",
        "colab": {}
      },
      "source": [
        "classes= ['doraemon', 'nobita']\n",
        "\n",
        "batch=64        # this means we will be using 64 images for every training step\n",
        "subdivisions=8  # the batch will be divided by 8 to decrease GPU VRAM requirements (decrease if GPU is powerful)\n",
        "num_classes= len(classes)\n",
        "filters= (num_classes+ 5)*5"
      ],
      "execution_count": 0,
      "outputs": []
    },
    {
      "cell_type": "markdown",
      "metadata": {
        "id": "t3oU5gwIaC2i",
        "colab_type": "text"
      },
      "source": [
        "#### Preparing yolo-voc.cfg file"
      ]
    },
    {
      "cell_type": "code",
      "metadata": {
        "id": "b-IyyefmYx0U",
        "colab_type": "code",
        "colab": {}
      },
      "source": [
        "! wget https://raw.githubusercontent.com/shivampip/MyYOLO/master/files/yolo-voc.cfg"
      ],
      "execution_count": 0,
      "outputs": []
    },
    {
      "cell_type": "code",
      "metadata": {
        "id": "Zp36QW41Y1P_",
        "colab_type": "code",
        "colab": {}
      },
      "source": [
        "text= \"\"\n",
        "with open(\"yolo-voc.cfg\", 'r') as mf:\n",
        "    text= mf.read().replace(\"$$BATCH_SIZE$$\", str(batch))\n",
        "    text= text.replace(\"$$SUBDIVISION$$\", str(subdivisions))\n",
        "    text= text.replace(\"$$CLASSES$$\", str(num_classes))\n",
        "    text= text.replace(\"$$FILTERS$$\", str(filters))\n",
        "    \n",
        "with open(\"yolo-voc.cfg\", \"w\") as f:\n",
        "    f.write(text)"
      ],
      "execution_count": 0,
      "outputs": []
    },
    {
      "cell_type": "markdown",
      "metadata": {
        "id": "e1KoqIbGnYcM",
        "colab_type": "text"
      },
      "source": [
        "#### Creating obj.names file"
      ]
    },
    {
      "cell_type": "code",
      "metadata": {
        "id": "VIAIWL4Imf0b",
        "colab_type": "code",
        "colab": {}
      },
      "source": [
        "text= \"\"\n",
        "for clas in classes:\n",
        "    text+=clas+\"\\n\"\n",
        "\n",
        "with open(\"cfg/obj.names\", \"w\") as f:\n",
        "    f.write(text)"
      ],
      "execution_count": 0,
      "outputs": []
    },
    {
      "cell_type": "code",
      "metadata": {
        "id": "n1tOz228myJn",
        "colab_type": "code",
        "colab": {}
      },
      "source": [
        "! cat cfg/obj.names"
      ],
      "execution_count": 0,
      "outputs": []
    },
    {
      "cell_type": "markdown",
      "metadata": {
        "id": "eFs_Ww2_nebZ",
        "colab_type": "text"
      },
      "source": [
        "#### Creating obj.data file"
      ]
    },
    {
      "cell_type": "code",
      "metadata": {
        "id": "geAmWktebaUI",
        "colab_type": "code",
        "colab": {}
      },
      "source": [
        "text= \"\"\"classes= {}  \n",
        "train  = train.txt  \n",
        "valid  = test.txt  \n",
        "names = obj.names  \n",
        "backup = backup/ \n",
        "\"\"\".format(len(classes))\n",
        "\n",
        "with open(\"cfg/obj.data\", \"w\") as f:\n",
        "    f.write(text)"
      ],
      "execution_count": 0,
      "outputs": []
    },
    {
      "cell_type": "code",
      "metadata": {
        "id": "xd2aO9YFbg1z",
        "colab_type": "code",
        "outputId": "adf6e4de-6157-4dbd-e882-6e76b665dac8",
        "colab": {
          "base_uri": "https://localhost:8080/",
          "height": 101
        }
      },
      "source": [
        "! cat cfg/obj.data"
      ],
      "execution_count": 0,
      "outputs": [
        {
          "output_type": "stream",
          "text": [
            "classes= 2  \n",
            "train  = train.txt  \n",
            "valid  = test.txt  \n",
            "names = obj.names  \n",
            "backup = backup/ \n"
          ],
          "name": "stdout"
        }
      ]
    },
    {
      "cell_type": "markdown",
      "metadata": {
        "id": "lhjYW6AuarRK",
        "colab_type": "text"
      },
      "source": [
        "### Train"
      ]
    },
    {
      "cell_type": "markdown",
      "metadata": {
        "id": "XhmTkweubE8A",
        "colab_type": "text"
      },
      "source": [
        "#### Fresh Training"
      ]
    },
    {
      "cell_type": "code",
      "metadata": {
        "id": "6DfV-hs9e0KY",
        "colab_type": "code",
        "colab": {}
      },
      "source": [
        "! ./darknet detector train ./cfg/obj.data yolo-voc.cfg darknet19_448.conv.23 -dont_show"
      ],
      "execution_count": 0,
      "outputs": []
    },
    {
      "cell_type": "markdown",
      "metadata": {
        "id": "PhDO58i5bHVO",
        "colab_type": "text"
      },
      "source": [
        "#### Continue Training ( after atleast 100 steps)"
      ]
    },
    {
      "cell_type": "code",
      "metadata": {
        "id": "i7pW2BfJbPfx",
        "colab_type": "code",
        "colab": {}
      },
      "source": [
        "! ./darknet detector train ./cfg/obj.data yolo-voc.cfg ./backup/yolo-voc_last.weights -dont_show"
      ],
      "execution_count": 0,
      "outputs": []
    },
    {
      "cell_type": "markdown",
      "metadata": {
        "id": "iWf9gOqXbQjx",
        "colab_type": "text"
      },
      "source": [
        "### Test"
      ]
    },
    {
      "cell_type": "code",
      "metadata": {
        "id": "HTGfjpUrlWN3",
        "colab_type": "code",
        "colab": {}
      },
      "source": [
        "! ./darknet detector test ./cfg/obj.data yolo-voc.cfg ./backup/yolo-voc_last.weights data/obj/pos-207.jpg -dont_show"
      ],
      "execution_count": 0,
      "outputs": []
    },
    {
      "cell_type": "code",
      "metadata": {
        "id": "C7YyYF1BlfZs",
        "colab_type": "code",
        "colab": {}
      },
      "source": [
        "plt.imshow(plt.imread(\"predictions.jpg\"))"
      ],
      "execution_count": 0,
      "outputs": []
    },
    {
      "cell_type": "markdown",
      "metadata": {
        "id": "hTf-_iT8bWWP",
        "colab_type": "text"
      },
      "source": [
        "### Save trained model in Google Drive"
      ]
    },
    {
      "cell_type": "code",
      "metadata": {
        "id": "S0gXvskX818k",
        "colab_type": "code",
        "colab": {}
      },
      "source": [
        "from google.colab import drive\n",
        "drive.mount('/content/drive')"
      ],
      "execution_count": 0,
      "outputs": []
    },
    {
      "cell_type": "code",
      "metadata": {
        "id": "PV70m8Oj-CCr",
        "colab_type": "code",
        "colab": {}
      },
      "source": [
        "cp ./darknet/backup/yolo-voc_last.weights ./drive/'My Drive'/ColabFiles\n",
        "#cp ./darknet/backup/yolo-voc_1000.weights ./drive/'My Drive'/ColabFiles"
      ],
      "execution_count": 0,
      "outputs": []
    },
    {
      "cell_type": "markdown",
      "metadata": {
        "id": "gD5haEb3D3Ci",
        "colab_type": "text"
      },
      "source": [
        "### Temp"
      ]
    },
    {
      "cell_type": "code",
      "metadata": {
        "id": "N-UKtM88D55s",
        "colab_type": "code",
        "colab": {
          "resources": {
            "http://localhost:8080/nbextensions/google.colab/files.js": {
              "data": "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",
              "ok": true,
              "headers": [
                [
                  "content-type",
                  "application/javascript"
                ]
              ],
              "status": 200,
              "status_text": ""
            }
          },
          "base_uri": "https://localhost:8080/",
          "height": 304
        },
        "outputId": "9aa3bd56-3c91-4c03-c625-e00fd0f6d5ba"
      },
      "source": [
        "from google.colab import files\n",
        "fname= files.upload()\n",
        "print(type(fname))\n",
        "print(list(fname.keys())[0])\n",
        "name, _ = fname.items()\n",
        "print(name)"
      ],
      "execution_count": 9,
      "outputs": [
        {
          "output_type": "display_data",
          "data": {
            "text/html": [
              "\n",
              "     <input type=\"file\" id=\"files-aaf1dd20-9a20-4ba7-9cb0-2c5df2cd3f10\" name=\"files[]\" multiple disabled />\n",
              "     <output id=\"result-aaf1dd20-9a20-4ba7-9cb0-2c5df2cd3f10\">\n",
              "      Upload widget is only available when the cell has been executed in the\n",
              "      current browser session. Please rerun this cell to enable.\n",
              "      </output>\n",
              "      <script src=\"/nbextensions/google.colab/files.js\"></script> "
            ],
            "text/plain": [
              "<IPython.core.display.HTML object>"
            ]
          },
          "metadata": {
            "tags": []
          }
        },
        {
          "output_type": "stream",
          "text": [
            "Saving dora5.png to dora5.png\n",
            "<class 'dict'>\n",
            "dora5.png\n"
          ],
          "name": "stdout"
        },
        {
          "output_type": "error",
          "ename": "ValueError",
          "evalue": "ignored",
          "traceback": [
            "\u001b[0;31m---------------------------------------------------------------------------\u001b[0m",
            "\u001b[0;31mValueError\u001b[0m                                Traceback (most recent call last)",
            "\u001b[0;32m<ipython-input-9-f10c8e8f08d6>\u001b[0m in \u001b[0;36m<module>\u001b[0;34m()\u001b[0m\n\u001b[1;32m      3\u001b[0m \u001b[0mprint\u001b[0m\u001b[0;34m(\u001b[0m\u001b[0mtype\u001b[0m\u001b[0;34m(\u001b[0m\u001b[0mfname\u001b[0m\u001b[0;34m)\u001b[0m\u001b[0;34m)\u001b[0m\u001b[0;34m\u001b[0m\u001b[0;34m\u001b[0m\u001b[0m\n\u001b[1;32m      4\u001b[0m \u001b[0mprint\u001b[0m\u001b[0;34m(\u001b[0m\u001b[0mlist\u001b[0m\u001b[0;34m(\u001b[0m\u001b[0mfname\u001b[0m\u001b[0;34m.\u001b[0m\u001b[0mkeys\u001b[0m\u001b[0;34m(\u001b[0m\u001b[0;34m)\u001b[0m\u001b[0;34m)\u001b[0m\u001b[0;34m[\u001b[0m\u001b[0;36m0\u001b[0m\u001b[0;34m]\u001b[0m\u001b[0;34m)\u001b[0m\u001b[0;34m\u001b[0m\u001b[0;34m\u001b[0m\u001b[0m\n\u001b[0;32m----> 5\u001b[0;31m \u001b[0mname\u001b[0m\u001b[0;34m,\u001b[0m \u001b[0m_\u001b[0m \u001b[0;34m=\u001b[0m \u001b[0mfname\u001b[0m\u001b[0;34m.\u001b[0m\u001b[0mitems\u001b[0m\u001b[0;34m(\u001b[0m\u001b[0;34m)\u001b[0m\u001b[0;34m\u001b[0m\u001b[0;34m\u001b[0m\u001b[0m\n\u001b[0m\u001b[1;32m      6\u001b[0m \u001b[0mprint\u001b[0m\u001b[0;34m(\u001b[0m\u001b[0mname\u001b[0m\u001b[0;34m)\u001b[0m\u001b[0;34m\u001b[0m\u001b[0;34m\u001b[0m\u001b[0m\n",
            "\u001b[0;31mValueError\u001b[0m: not enough values to unpack (expected 2, got 1)"
          ]
        }
      ]
    },
    {
      "cell_type": "code",
      "metadata": {
        "id": "rUO40fEPEAxk",
        "colab_type": "code",
        "colab": {}
      },
      "source": [
        ""
      ],
      "execution_count": 0,
      "outputs": []
    }
  ]
}