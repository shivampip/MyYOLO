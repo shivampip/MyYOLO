{
  "nbformat": 4,
  "nbformat_minor": 0,
  "metadata": {
    "colab": {
      "name": "TrainingYolo",
      "version": "0.3.2",
      "provenance": [],
      "collapsed_sections": [
        "d5L_irMSFu4Y",
        "C8ZxyP5fivoP",
        "9ulJmgKQT0qs",
        "3rpOoBH2jlrW",
        "QfRSY_c5j8zp",
        "mjxIuT05Lz4L",
        "VJis7m8gaYrh",
        "bo61EbRNkidt",
        "t3oU5gwIaC2i",
        "e1KoqIbGnYcM",
        "eFs_Ww2_nebZ",
        "lhjYW6AuarRK",
        "XhmTkweubE8A",
        "PhDO58i5bHVO",
        "iWf9gOqXbQjx"
      ],
      "include_colab_link": true
    },
    "kernelspec": {
      "name": "python3",
      "display_name": "Python 3"
    },
    "accelerator": "GPU"
  },
  "cells": [
    {
      "cell_type": "markdown",
      "metadata": {
        "id": "view-in-github",
        "colab_type": "text"
      },
      "source": [
        "<a href=\"https://colab.research.google.com/github/shivampip/MyYOLO/blob/master/TrainingYolo.ipynb\" target=\"_parent\"><img src=\"https://colab.research.google.com/assets/colab-badge.svg\" alt=\"Open In Colab\"/></a>"
      ]
    },
    {
      "cell_type": "markdown",
      "metadata": {
        "id": "N3sWT0aAFv-V",
        "colab_type": "text"
      },
      "source": [
        "# Training YOLO"
      ]
    },
    {
      "cell_type": "markdown",
      "metadata": {
        "id": "d5L_irMSFu4Y",
        "colab_type": "text"
      },
      "source": [
        "### Training Data Creation"
      ]
    },
    {
      "cell_type": "markdown",
      "metadata": {
        "id": "1CSPUwsvF61n",
        "colab_type": "text"
      },
      "source": [
        "#### Collecting Images\n",
        "\n",
        "* Decide the classes to be detected.\n",
        "* Download/ collect atleast 100 images of each class\n",
        "\n",
        "##### Automatic download images\n",
        "\n",
        "* Install google_image_download\n",
        "```\n",
        "pip install google_images_download\n",
        "```\n",
        "\n",
        "* Download the images\n",
        "```\n",
        "googleimagesdownload --keywords \"Polar bears, baloons, Beaches\" --format jpg --limit 100\n",
        "```\n",
        "\n",
        "* Put all downloaded images in single folder say `imgs`"
      ]
    },
    {
      "cell_type": "markdown",
      "metadata": {
        "id": "ady8ZByTIxZn",
        "colab_type": "text"
      },
      "source": [
        "#### Annotate the images\n",
        "\n",
        "* Clone this repo\n",
        "```\n",
        "git clone https://github.com/tzutalin/labelImg\n",
        "cd labelImg\n",
        "```\n",
        "\n",
        "* Run labelImg\n",
        "```\n",
        "python labelImg.py\n",
        "```\n",
        "\n",
        "* Select open dir as `imgs`\n",
        "* Select destination dir as `imgs`\n",
        "* Select format as YOLO\n",
        "* Start Annotating\n",
        "* Use shortcut `d` for next image and `w` to create box\n",
        "* **Keep Calm and Annotate**\n",
        "\n",
        "#### Packing the images\n",
        "\n",
        "* Now you will have a folder named `imgs`\n",
        "* In that folder you will have all the images and a `.txt` file corresponding to each image file\n",
        "* It will look something like this\n",
        "```\n",
        "imgs\n",
        "  |--photo1.jpg\n",
        "  |--photo1.txt\n",
        "  |--photo2.jpg\n",
        "  |--photo2.txt\n",
        "  ......\n",
        "  ......\n",
        "```\n",
        "\n",
        "* Now `zip` the `imgs` folder to `imgs.zip`\n",
        "\n",
        "**Training Data Creating Part Completed**"
      ]
    },
    {
      "cell_type": "code",
      "metadata": {
        "id": "RrWLsAFLF6MM",
        "colab_type": "code",
        "colab": {}
      },
      "source": [
        ""
      ],
      "execution_count": 0,
      "outputs": []
    },
    {
      "cell_type": "markdown",
      "metadata": {
        "id": "C8ZxyP5fivoP",
        "colab_type": "text"
      },
      "source": [
        "### Clone repo"
      ]
    },
    {
      "cell_type": "code",
      "metadata": {
        "id": "eEIgRADeTefh",
        "colab_type": "code",
        "colab": {}
      },
      "source": [
        "! git clone https://github.com/AlexeyAB/darknet.git"
      ],
      "execution_count": 0,
      "outputs": []
    },
    {
      "cell_type": "code",
      "metadata": {
        "id": "2rl6KamzThRl",
        "colab_type": "code",
        "colab": {}
      },
      "source": [
        "cd darknet"
      ],
      "execution_count": 0,
      "outputs": []
    },
    {
      "cell_type": "markdown",
      "metadata": {
        "id": "9ulJmgKQT0qs",
        "colab_type": "text"
      },
      "source": [
        "### Enable GPU and OpenCV and Install"
      ]
    },
    {
      "cell_type": "code",
      "metadata": {
        "id": "B4WgLCm2T2GM",
        "colab_type": "code",
        "colab": {}
      },
      "source": [
        "text= \"\"\n",
        "with open(\"Makefile\", 'r') as mf:\n",
        "    text= mf.read().replace(\"GPU=0\", \"GPU=1\")\n",
        "    text= text.replace(\"OPENCV=0\", \"OPENCV=1\")\n",
        "with open(\"Makefile\", \"w\") as f:\n",
        "    f.write(text)"
      ],
      "execution_count": 0,
      "outputs": []
    },
    {
      "cell_type": "code",
      "metadata": {
        "id": "dEbDIU9IT2Tk",
        "colab_type": "code",
        "colab": {}
      },
      "source": [
        "! make"
      ],
      "execution_count": 0,
      "outputs": []
    },
    {
      "cell_type": "markdown",
      "metadata": {
        "id": "3rpOoBH2jlrW",
        "colab_type": "text"
      },
      "source": [
        "### Download Pre trained weights"
      ]
    },
    {
      "cell_type": "code",
      "metadata": {
        "id": "ew7GLUdxXN0G",
        "colab_type": "code",
        "colab": {}
      },
      "source": [
        "! wget https://pjreddie.com/media/files/yolov3.weights"
      ],
      "execution_count": 0,
      "outputs": []
    },
    {
      "cell_type": "code",
      "metadata": {
        "id": "sDyTGq-uPf-u",
        "colab_type": "code",
        "colab": {}
      },
      "source": [
        "! wget https://pjreddie.com/media/files/darknet19_448.conv.23"
      ],
      "execution_count": 0,
      "outputs": []
    },
    {
      "cell_type": "markdown",
      "metadata": {
        "id": "QfRSY_c5j8zp",
        "colab_type": "text"
      },
      "source": [
        "### Testing"
      ]
    },
    {
      "cell_type": "code",
      "metadata": {
        "id": "WMURtYjYXjoQ",
        "colab_type": "code",
        "colab": {}
      },
      "source": [
        "! ./darknet detect ./cfg/yolov3.cfg ./yolov3.weights ./data/person.jpg ."
      ],
      "execution_count": 0,
      "outputs": []
    },
    {
      "cell_type": "code",
      "metadata": {
        "id": "gTZxLbKcZx3A",
        "colab_type": "code",
        "colab": {}
      },
      "source": [
        "from matplotlib import pyplot as plt\n",
        "plt.imshow(plt.imread(\"predictions.jpg\"))"
      ],
      "execution_count": 0,
      "outputs": []
    },
    {
      "cell_type": "markdown",
      "metadata": {
        "id": "R0rRlBf5aR7j",
        "colab_type": "text"
      },
      "source": [
        "### Preparing Training Data"
      ]
    },
    {
      "cell_type": "markdown",
      "metadata": {
        "id": "mjxIuT05Lz4L",
        "colab_type": "text"
      },
      "source": [
        "#### Uploading Annotated Images\n",
        "\n",
        "* Upload `imgs.zip` file here by running the bilow cell"
      ]
    },
    {
      "cell_type": "code",
      "metadata": {
        "id": "d4pgbD6xL5hi",
        "colab_type": "code",
        "colab": {}
      },
      "source": [
        "from google.colab import files\n",
        "files.upload()"
      ],
      "execution_count": 0,
      "outputs": []
    },
    {
      "cell_type": "code",
      "metadata": {
        "id": "jkpJ2_n3L45G",
        "colab_type": "code",
        "colab": {}
      },
      "source": [
        "! unzip imgs.zip -d data/"
      ],
      "execution_count": 0,
      "outputs": []
    },
    {
      "cell_type": "code",
      "metadata": {
        "id": "AVtj9h19Qgxe",
        "colab_type": "code",
        "colab": {}
      },
      "source": [
        "! rm -rf imgs.zip"
      ],
      "execution_count": 0,
      "outputs": []
    },
    {
      "cell_type": "markdown",
      "metadata": {
        "id": "VJis7m8gaYrh",
        "colab_type": "text"
      },
      "source": [
        "#### Creating train.txt and test.txt"
      ]
    },
    {
      "cell_type": "code",
      "metadata": {
        "id": "OLJouoi7QleH",
        "colab_type": "code",
        "colab": {}
      },
      "source": [
        "import os\n",
        "\n",
        "all_files= os.listdir(\"data/imgs/\")\n",
        "total_num= len(all_files)\n",
        "\n",
        "all_files= [fname for fname in all_files if any(ext in fname for ext in ['.jpg', '.png', 'jpeg'])]\n",
        "all_files= ['data/imgs/'+name for name in all_files]\n",
        "\n",
        "test_size= 0.1\n",
        "\n",
        "test_num= round(total_num * test_size)\n",
        "\n",
        "test_files= all_files[:test_num]\n",
        "train_files= all_files[test_num:]\n",
        "\n",
        "trainf_data= \"\"\n",
        "testf_data= \"\"\n",
        "for fname in test_files:\n",
        "    testf_data+= fname+\"\\n\"\n",
        "    \n",
        "for fname in train_files:\n",
        "    trainf_data+= fname+\"\\n\"\n",
        "\n",
        "with open(\"train.txt\", \"w\") as trainf:\n",
        "    trainf.write(trainf_data)\n",
        "    \n",
        "with open(\"test.txt\", \"w\") as testf:\n",
        "    testf.write(testf_data)"
      ],
      "execution_count": 0,
      "outputs": []
    },
    {
      "cell_type": "markdown",
      "metadata": {
        "id": "bo61EbRNkidt",
        "colab_type": "text"
      },
      "source": [
        "#### User Input"
      ]
    },
    {
      "cell_type": "code",
      "metadata": {
        "id": "b6qI4NXPmMSi",
        "colab_type": "code",
        "colab": {}
      },
      "source": [
        "classes= ['doraemon', 'nobita']\n",
        "\n",
        "batch=64        # this means we will be using 64 images for every training step\n",
        "subdivisions=8  # the batch will be divided by 8 to decrease GPU VRAM requirements (decrease if GPU is powerful)\n",
        "num_classes= len(classes)\n",
        "filters= (num_classes+ 5)*5"
      ],
      "execution_count": 0,
      "outputs": []
    },
    {
      "cell_type": "markdown",
      "metadata": {
        "id": "t3oU5gwIaC2i",
        "colab_type": "text"
      },
      "source": [
        "#### Preparing yolo-voc.cfg file"
      ]
    },
    {
      "cell_type": "code",
      "metadata": {
        "id": "b-IyyefmYx0U",
        "colab_type": "code",
        "colab": {}
      },
      "source": [
        "! wget https://raw.githubusercontent.com/shivampip/MyYOLO/master/files/yolo-voc.cfg"
      ],
      "execution_count": 0,
      "outputs": []
    },
    {
      "cell_type": "code",
      "metadata": {
        "id": "Zp36QW41Y1P_",
        "colab_type": "code",
        "colab": {}
      },
      "source": [
        "text= \"\"\n",
        "with open(\"yolo-voc.cfg\", 'r') as mf:\n",
        "    text= mf.read().replace(\"$$BATCH_SIZE$$\", str(batch))\n",
        "    text= text.replace(\"$$SUBDIVISION$$\", str(subdivisions))\n",
        "    text= text.replace(\"$$CLASSES$$\", str(num_classes))\n",
        "    text= text.replace(\"$$FILTERS$$\", str(filters))\n",
        "    \n",
        "with open(\"yolo-voc.cfg\", \"w\") as f:\n",
        "    f.write(text)"
      ],
      "execution_count": 0,
      "outputs": []
    },
    {
      "cell_type": "markdown",
      "metadata": {
        "id": "e1KoqIbGnYcM",
        "colab_type": "text"
      },
      "source": [
        "#### Creating obj.names file"
      ]
    },
    {
      "cell_type": "code",
      "metadata": {
        "id": "VIAIWL4Imf0b",
        "colab_type": "code",
        "colab": {}
      },
      "source": [
        "text= \"\"\n",
        "for clas in classes:\n",
        "    text+=clas+\"\\n\"\n",
        "\n",
        "with open(\"cfg/obj.names\", \"w\") as f:\n",
        "    f.write(text)"
      ],
      "execution_count": 0,
      "outputs": []
    },
    {
      "cell_type": "code",
      "metadata": {
        "id": "n1tOz228myJn",
        "colab_type": "code",
        "colab": {}
      },
      "source": [
        "! cat cfg/obj.names"
      ],
      "execution_count": 0,
      "outputs": []
    },
    {
      "cell_type": "markdown",
      "metadata": {
        "id": "eFs_Ww2_nebZ",
        "colab_type": "text"
      },
      "source": [
        "#### Creating obj.data file"
      ]
    },
    {
      "cell_type": "code",
      "metadata": {
        "id": "geAmWktebaUI",
        "colab_type": "code",
        "colab": {}
      },
      "source": [
        "text= \"\"\"classes= {}  \n",
        "train  = train.txt  \n",
        "valid  = test.txt  \n",
        "names = obj.names  \n",
        "backup = backup/ \n",
        "\"\"\".format(len(classes))\n",
        "\n",
        "with open(\"cfg/obj.data\", \"w\") as f:\n",
        "    f.write(text)"
      ],
      "execution_count": 0,
      "outputs": []
    },
    {
      "cell_type": "code",
      "metadata": {
        "id": "xd2aO9YFbg1z",
        "colab_type": "code",
        "outputId": "adf6e4de-6157-4dbd-e882-6e76b665dac8",
        "colab": {
          "base_uri": "https://localhost:8080/",
          "height": 101
        }
      },
      "source": [
        "! cat cfg/obj.data"
      ],
      "execution_count": 0,
      "outputs": [
        {
          "output_type": "stream",
          "text": [
            "classes= 2  \n",
            "train  = train.txt  \n",
            "valid  = test.txt  \n",
            "names = obj.names  \n",
            "backup = backup/ \n"
          ],
          "name": "stdout"
        }
      ]
    },
    {
      "cell_type": "markdown",
      "metadata": {
        "id": "lhjYW6AuarRK",
        "colab_type": "text"
      },
      "source": [
        "### Train"
      ]
    },
    {
      "cell_type": "markdown",
      "metadata": {
        "id": "XhmTkweubE8A",
        "colab_type": "text"
      },
      "source": [
        "#### Fresh Training"
      ]
    },
    {
      "cell_type": "code",
      "metadata": {
        "id": "6DfV-hs9e0KY",
        "colab_type": "code",
        "colab": {}
      },
      "source": [
        "! ./darknet detector train ./cfg/obj.data yolo-voc.cfg darknet19_448.conv.23 -dont_show"
      ],
      "execution_count": 0,
      "outputs": []
    },
    {
      "cell_type": "markdown",
      "metadata": {
        "id": "PhDO58i5bHVO",
        "colab_type": "text"
      },
      "source": [
        "#### Continue Training ( after atleast 100 steps)"
      ]
    },
    {
      "cell_type": "code",
      "metadata": {
        "id": "i7pW2BfJbPfx",
        "colab_type": "code",
        "colab": {}
      },
      "source": [
        "! ./darknet detector train ./cfg/obj.data yolo-voc.cfg ./backup/yolo-voc_last.weights -dont_show"
      ],
      "execution_count": 0,
      "outputs": []
    },
    {
      "cell_type": "markdown",
      "metadata": {
        "id": "iWf9gOqXbQjx",
        "colab_type": "text"
      },
      "source": [
        "### Test"
      ]
    },
    {
      "cell_type": "code",
      "metadata": {
        "id": "HTGfjpUrlWN3",
        "colab_type": "code",
        "colab": {}
      },
      "source": [
        "! ./darknet detector test ./cfg/obj.data yolo-voc.cfg ./backup/yolo-voc_last.weights data/obj/pos-207.jpg -dont_show"
      ],
      "execution_count": 0,
      "outputs": []
    },
    {
      "cell_type": "code",
      "metadata": {
        "id": "C7YyYF1BlfZs",
        "colab_type": "code",
        "colab": {}
      },
      "source": [
        "plt.imshow(plt.imread(\"predictions.jpg\"))"
      ],
      "execution_count": 0,
      "outputs": []
    },
    {
      "cell_type": "markdown",
      "metadata": {
        "id": "hTf-_iT8bWWP",
        "colab_type": "text"
      },
      "source": [
        "### Save trained model in Google Drive"
      ]
    },
    {
      "cell_type": "code",
      "metadata": {
        "id": "S0gXvskX818k",
        "colab_type": "code",
        "colab": {}
      },
      "source": [
        "from google.colab import drive\n",
        "drive.mount('/content/drive')"
      ],
      "execution_count": 0,
      "outputs": []
    },
    {
      "cell_type": "code",
      "metadata": {
        "id": "PV70m8Oj-CCr",
        "colab_type": "code",
        "colab": {}
      },
      "source": [
        "cp ./darknet/backup/yolo-voc_last.weights ./drive/'My Drive'/ColabFiles\n",
        "#cp ./darknet/backup/yolo-voc_1000.weights ./drive/'My Drive'/ColabFiles"
      ],
      "execution_count": 0,
      "outputs": []
    },
    {
      "cell_type": "markdown",
      "metadata": {
        "id": "gD5haEb3D3Ci",
        "colab_type": "text"
      },
      "source": [
        "### Temp"
      ]
    },
    {
      "cell_type": "code",
      "metadata": {
        "id": "N-UKtM88D55s",
        "colab_type": "code",
        "colab": {}
      },
      "source": [
        "#Get name of uploaded file\n",
        "from google.colab import files\n",
        "uploaded= files.upload()\n",
        "fname= list(uploaded.keys())[0]\n",
        "print(fname)"
      ],
      "execution_count": 0,
      "outputs": []
    },
    {
      "cell_type": "code",
      "metadata": {
        "id": "rUO40fEPEAxk",
        "colab_type": "code",
        "colab": {}
      },
      "source": [
        ""
      ],
      "execution_count": 0,
      "outputs": []
    }
  ]
}